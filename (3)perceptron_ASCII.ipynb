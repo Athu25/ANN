{
 "cells": [
  {
   "cell_type": "code",
   "execution_count": 4,
   "id": "ee9e4a21-3732-4157-8e68-071678a66960",
   "metadata": {},
   "outputs": [
    {
     "name": "stdout",
     "output_type": "stream",
     "text": [
      "Number | Prediction\n",
      "  0     |   Even\n",
      "  1     |   Odd\n",
      "  2     |   Even\n",
      "  3     |   Odd\n",
      "  4     |   Even\n",
      "  5     |   Odd\n",
      "  6     |   Even\n",
      "  7     |   Odd\n",
      "  8     |   Even\n",
      "  9     |   Odd\n"
     ]
    }
   ],
   "source": [
    "import numpy as np\n",
    "\n",
    "def perceptron_train(X, y, input_size, learning_rate=0.1, epochs=100):\n",
    "    weights = np.zeros(input_size)  \n",
    "    bias = 0  \n",
    "\n",
    "    for epoch in range(epochs): \n",
    "        for i in range(len(X)):\n",
    "            output = 1 if np.dot(X[i], weights) + bias >= 0 else 0\n",
    "            error = y[i] - output\n",
    "            weights += learning_rate * error * X[i]\n",
    "            bias += learning_rate * error\n",
    "    \n",
    "    return weights, bias\n",
    "\n",
    "def perceptron_predict(x, weights, bias):\n",
    "    return 1 if np.dot(x, weights) + bias >= 0 else 0\n",
    "\n",
    "# Input: 0 to 9, X as one feature (parity)\n",
    "X = np.array([[0], [1], [0], [1], [0], [1], [0], [1], [0], [1]])  # Even: 0,2,4,6,8 → 0 | Odd: 1,3,5,7,9 → 1\n",
    "y = np.array([1, 0, 1, 0, 1, 0, 1, 0, 1, 0])  # Label 1 for Even, 0 for Odd\n",
    "\n",
    "weights, bias = perceptron_train(X, y, input_size=1, learning_rate=0.1, epochs=100)\n",
    "\n",
    "print(\"Number | Prediction\")\n",
    "for i in range(10):\n",
    "    prediction = perceptron_predict(np.array([i % 2]), weights, bias)  # i % 2 gives 0 (even) or 1 (odd)\n",
    "    result = \"Even\" if prediction == 1 else \"Odd\"\n",
    "    print(f\"  {i}     |   {result}\")\n"
   ]
  },
  {
   "cell_type": "code",
   "execution_count": null,
   "id": "42399546-61cb-42df-bd3f-88081b2dac89",
   "metadata": {},
   "outputs": [],
   "source": []
  }
 ],
 "metadata": {
  "kernelspec": {
   "display_name": "Python 3 (ipykernel)",
   "language": "python",
   "name": "python3"
  },
  "language_info": {
   "codemirror_mode": {
    "name": "ipython",
    "version": 3
   },
   "file_extension": ".py",
   "mimetype": "text/x-python",
   "name": "python",
   "nbconvert_exporter": "python",
   "pygments_lexer": "ipython3",
   "version": "3.13.3"
  }
 },
 "nbformat": 4,
 "nbformat_minor": 5
}
