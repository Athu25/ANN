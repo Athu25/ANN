{
 "cells": [
  {
   "cell_type": "code",
   "execution_count": null,
   "id": "11b7f710-afe7-4b71-bdd1-ddd6eec92012",
   "metadata": {},
   "outputs": [],
   "source": [
    "import tensorflow as tf\n",
    "import numpy as np\n",
    "\n",
    "# XOR input and labels (Note: this is actually OR gate labels)\n",
    "X = np.array([[0, 0], [0, 1], [1, 0], [1, 1]], dtype=np.float32)\n",
    "y = np.array([[0], [1], [1], [1]], dtype=np.float32)  # OR gate, not XOR\n",
    "\n",
    "# Model definition: Logistic Regression (1 neuron with sigmoid)\n",
    "model = tf.keras.Sequential([\n",
    "    tf.keras.layers.Dense(1, activation='sigmoid', input_shape=(2,))\n",
    "])\n",
    "\n",
    "# Compilation\n",
    "model.compile(optimizer='adam',\n",
    "              loss='binary_crossentropy',\n",
    "              metrics=['accuracy'])\n",
    "\n",
    "# Training\n",
    "model.fit(X, y, epochs=1000, verbose=0)\n",
    "\n",
    "# Evaluation\n",
    "loss, accuracy = model.evaluate(X, y)\n",
    "print(f\"\\nFinal Evaluation - Loss: {loss:.4f}, Accuracy: {accuracy:.4f}\")\n",
    "\n",
    "# Predictions\n",
    "preds = (model.predict(X) > 0.5).astype(int)\n",
    "print(\"\\nPredictions:\")\n",
    "print(preds)\n"
   ]
  }
 ],
 "metadata": {
  "kernelspec": {
   "display_name": "Python 3 (ipykernel)",
   "language": "python",
   "name": "python3"
  },
  "language_info": {
   "codemirror_mode": {
    "name": "ipython",
    "version": 3
   },
   "file_extension": ".py",
   "mimetype": "text/x-python",
   "name": "python",
   "nbconvert_exporter": "python",
   "pygments_lexer": "ipython3",
   "version": "3.13.3"
  }
 },
 "nbformat": 4,
 "nbformat_minor": 5
}
