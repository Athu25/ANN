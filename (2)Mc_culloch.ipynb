{
 "cells": [
  {
   "cell_type": "code",
   "execution_count": null,
   "id": "2b9871fe-d4e6-428b-84c5-8ac99c3bba60",
   "metadata": {},
   "outputs": [],
   "source": [
    "def mc_culloch_andnot(x1,x2):\n",
    "    w1=1 \n",
    "    w2=-1 \n",
    "    theta=1\n",
    "    y=w1*x1+w2*x2\n",
    "    if y>=theta:\n",
    "        return 1\n",
    "    else:\n",
    "        return 0\n",
    " print(\"X1 | X2 | Output\")\n",
    " for x1 in [0,1]:\n",
    "    for x2 in [0,1]:\n",
    "        output=mc_culloch_andnot(x1,x2)\n",
    "        print(f\" {x1} | {x2} | {output}\")\n",
    "        \n",
    " # changing theta values (optional)\n",
    "\n",
    " def mc_culloch_andnot(x1,x2):  \n",
    "    w1=1 #AND\n",
    "    w2=-1 #NOT\n",
    "    theta=2    # gives wrong output even correct input doesnt produce output =1\n",
    "    y=w1*x1+w2*x2\n",
    "    if y>=theta:\n",
    "        return 1\n",
    "    else:\n",
    "        return 0\n",
    " print(\"X1 | X2 | Output\")\n",
    " for x1 in [0,1]:\n",
    "    for x2 in [0,1]:\n",
    "        output=mc_culloch_andnot(x1,x2)\n",
    "        print(f\" {x1} | {x2} | {output}\")\n",
    " def mc_culloch_andnot(x1,x2):\n",
    "    w1=1 #AND\n",
    "    w2=-1 #NOT\n",
    "    theta=0.5\n",
    "     y=w1*x1+w2*x2\n",
    "     if y>=theta:\n",
    "         return 1\n",
    "     else:\n",
    "         return 0\n",
    " print(\"X1 | X2 | Output\")\n",
    " for x1 in [0,1]:\n",
    "    for x2 in [0,1]:\n",
    "         output=mc_culloch_andnot(x1,x2)\n",
    "         print(f\" {x1} | {x2} | {output}\")"
   ]
  },
  {
   "cell_type": "code",
   "execution_count": 4,
   "id": "4dc213c7-0dc7-4a4a-92d8-bf5ec5c1a10a",
   "metadata": {},
   "outputs": [
    {
     "name": "stdout",
     "output_type": "stream",
     "text": [
      "X1 | X2 | Output\n",
      " 0 | 0 | 0\n",
      " 0 | 1 | 0\n",
      " 1 | 0 | 1\n",
      " 1 | 1 | 0\n"
     ]
    }
   ],
   "source": [
    "def mc_culloch_andnot(x1,x2):\n",
    "    w1=1 #AND\n",
    "    w2=-1 #NOT\n",
    "    theta=1\n",
    "    y=w1*x1+w2*x2\n",
    "    if y>=theta:\n",
    "        return 1\n",
    "    else:\n",
    "        return 0\n",
    "\n",
    "print(\"X1 | X2 | Output\")\n",
    "for x1 in [0,1]:\n",
    "    for x2 in [0,1]:\n",
    "        output=mc_culloch_andnot(x1,x2)\n",
    "        print(f\" {x1} | {x2} | {output}\")"
   ]
  },
  {
   "cell_type": "code",
   "execution_count": 5,
   "id": "9864c46a-a5d9-45a7-abb1-c08ebacb0c51",
   "metadata": {},
   "outputs": [
    {
     "name": "stdout",
     "output_type": "stream",
     "text": [
      "X1 | X2 | Output\n",
      " 0 | 0 | 0\n",
      " 0 | 1 | 0\n",
      " 1 | 0 | 0\n",
      " 1 | 1 | 0\n"
     ]
    }
   ],
   "source": [
    " def mc_culloch_andnot(x1,x2):  \n",
    "    w1=1 #AND\n",
    "    w2=-1 #NOT\n",
    "    theta=2    # gives wrong output even correct input doesnt produce output =1\n",
    "    y=w1*x1+w2*x2\n",
    "    if y>=theta:\n",
    "        return 1\n",
    "    else:\n",
    "        return 0\n",
    " print(\"X1 | X2 | Output\")\n",
    " for x1 in [0,1]:\n",
    "    for x2 in [0,1]:\n",
    "        output=mc_culloch_andnot(x1,x2)\n",
    "        print(f\" {x1} | {x2} | {output}\")"
   ]
  },
  {
   "cell_type": "code",
   "execution_count": 6,
   "id": "d2e660e1-82fc-4915-b842-9d9384619b9c",
   "metadata": {},
   "outputs": [
    {
     "name": "stdout",
     "output_type": "stream",
     "text": [
      "X1 | X2 | Output\n",
      " 0 | 0 | 0\n",
      " 0 | 1 | 0\n",
      " 1 | 0 | 1\n",
      " 1 | 1 | 0\n"
     ]
    }
   ],
   "source": [
    " def mc_culloch_andnot(x1,x2):  \n",
    "    w1=1 #AND\n",
    "    w2=-1 #NOT\n",
    "    theta=0.5    # gives wrong output even correct input doesnt produce output =\n",
    "    y=w1*x1+w2*x2\n",
    "    if y>=theta:\n",
    "        return 1\n",
    "    else:\n",
    "        return 0\n",
    " print(\"X1 | X2 | Output\")\n",
    " for x1 in [0,1]:\n",
    "    for x2 in [0,1]:\n",
    "        output=mc_culloch_andnot(x1,x2)\n",
    "        print(f\" {x1} | {x2} | {output}\")"
   ]
  },
  {
   "cell_type": "code",
   "execution_count": null,
   "id": "f9fc7d3a-8018-4f7c-aec0-468da8933dbc",
   "metadata": {},
   "outputs": [],
   "source": []
  }
 ],
 "metadata": {
  "kernelspec": {
   "display_name": "Python 3 (ipykernel)",
   "language": "python",
   "name": "python3"
  },
  "language_info": {
   "codemirror_mode": {
    "name": "ipython",
    "version": 3
   },
   "file_extension": ".py",
   "mimetype": "text/x-python",
   "name": "python",
   "nbconvert_exporter": "python",
   "pygments_lexer": "ipython3",
   "version": "3.13.3"
  }
 },
 "nbformat": 4,
 "nbformat_minor": 5
}
