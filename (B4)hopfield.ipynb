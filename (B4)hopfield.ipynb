{
 "cells": [
  {
   "cell_type": "code",
   "execution_count": 2,
   "id": "adbf3263-cfb8-483e-ac42-989ef090ee93",
   "metadata": {},
   "outputs": [
    {
     "name": "stdout",
     "output_type": "stream",
     "text": [
      "Stored Patterns:\n",
      " [[ 1 -1  1 -1]\n",
      " [ 1  1 -1 -1]]\n",
      "Weight Matrix:\n",
      " [[ 0  0  0 -2]\n",
      " [ 0  0 -2  0]\n",
      " [ 0 -2  0  0]\n",
      " [-2  0  0  0]]\n",
      "Initial Noisy Input: [ 1 -1 -1 -1]\n",
      "Recalled Pattern: [ 1  1 -1 -1]\n"
     ]
    }
   ],
   "source": [
    "import numpy as np\n",
    "\n",
    "# Store binary patterns (-1 and 1)\n",
    "patterns = np.array([\n",
    "    [1, -1, 1, -1],\n",
    "    [1, 1, -1, -1]\n",
    "])\n",
    "\n",
    "# Create weight matrix using Hebbian learning rule\n",
    "W = sum(np.outer(p, p) for p in patterns)\n",
    "np.fill_diagonal(W, 0)\n",
    "\n",
    "# Test with noisy pattern\n",
    "test_pattern = np.array([1, -1, -1, -1])\n",
    "\n",
    "print(\"Stored Patterns:\\n\", patterns)\n",
    "print(\"Weight Matrix:\\n\", W)\n",
    "print(\"Initial Noisy Input:\", test_pattern)\n",
    "\n",
    "# Asynchronous recall function\n",
    "def recall(x, W, steps=10):\n",
    "    x = x.copy()\n",
    "    for _ in range(steps):\n",
    "        for i in range(len(x)):\n",
    "            x[i] = 1 if np.dot(W[i], x) >= 0 else -1\n",
    "    return x\n",
    "\n",
    "# Predict\n",
    "output = recall(test_pattern, W)\n",
    "print(\"Recalled Pattern:\", output)\n"
   ]
  },
  {
   "cell_type": "code",
   "execution_count": null,
   "id": "af6aa51c-8bd1-4530-9456-9f6678263b72",
   "metadata": {},
   "outputs": [],
   "source": []
  }
 ],
 "metadata": {
  "kernelspec": {
   "display_name": "Python 3 (ipykernel)",
   "language": "python",
   "name": "python3"
  },
  "language_info": {
   "codemirror_mode": {
    "name": "ipython",
    "version": 3
   },
   "file_extension": ".py",
   "mimetype": "text/x-python",
   "name": "python",
   "nbconvert_exporter": "python",
   "pygments_lexer": "ipython3",
   "version": "3.13.3"
  }
 },
 "nbformat": 4,
 "nbformat_minor": 5
}
