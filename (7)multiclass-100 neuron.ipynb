{
 "cells": [
  {
   "cell_type": "code",
   "execution_count": 6,
   "id": "9236de87-24f1-4bfa-bcb2-6370284e17d0",
   "metadata": {},
   "outputs": [
    {
     "name": "stdout",
     "output_type": "stream",
     "text": [
      "\n",
      "Predictions after training:\n",
      "[[1. 0. 0.]\n",
      " [0. 1. 0.]\n",
      " [0. 0. 1.]\n",
      " [0. 1. 0.]]\n"
     ]
    }
   ],
   "source": [
    "import numpy as np\n",
    "def relu(x):\n",
    "    return np.maximum(0, x)  \n",
    "def relu_derivative(x):\n",
    "    return (x > 0).astype(float)  \n",
    "def softmax(x):\n",
    "    exp_x = np.exp(x - np.max(x, axis=1, keepdims=True))  \n",
    "    return exp_x / np.sum(exp_x, axis=1, keepdims=True)\n",
    "def cross_entropy_loss(y_true, y_pred):\n",
    "    m = y_true.shape[0]\n",
    "    return -np.sum(y_true * np.log(y_pred + 1e-8)) / m  \n",
    "X = np.array([[0, 0],\n",
    "              [0, 1],\n",
    "              [1, 0],\n",
    "              [1, 1]])\n",
    "y = np.array([[1, 0, 0],  \n",
    "              [0, 1, 0],  \n",
    "              [0, 0, 1],  \n",
    "              [0, 1, 0]])  \n",
    "np.random.seed(0)\n",
    "w1 = np.random.randn(2, 100) * 0.01   \n",
    "b1 = np.zeros((1, 100))                \n",
    "w2 = np.random.randn(100, 3) * 0.01  \n",
    "b2 = np.zeros((1, 3))                \n",
    "lr = 0.01\n",
    "epochs = 10000\n",
    "for epoch in range(epochs):\n",
    "    z1 = np.dot(X, w1) + b1\n",
    "    a1 = relu(z1)\n",
    "    z2 = np.dot(a1, w2) + b2\n",
    "    a2 = softmax(z2) \n",
    "    loss = cross_entropy_loss(y, a2)\n",
    "    output_error = a2 - y \n",
    "    d2 = output_error  \n",
    "    hidden_error = np.dot(d2, w2.T)  \n",
    "    d1 = hidden_error * relu_derivative(a1)  \n",
    "    w2 -= lr * np.dot(a1.T, d2)\n",
    "    b2 -= lr * np.sum(d2, axis=0, keepdims=True)\n",
    "    w1 -= lr * np.dot(X.T, d1)\n",
    "    b1 -= lr * np.sum(d1, axis=0, keepdims=True)\n",
    "print(\"\\nPredictions after training:\")\n",
    "print(np.round(a2))  "
   ]
  },
  {
   "cell_type": "code",
   "execution_count": null,
   "id": "6d15bf2f-7ff6-42ce-924a-f609c3b876e9",
   "metadata": {},
   "outputs": [],
   "source": []
  }
 ],
 "metadata": {
  "kernelspec": {
   "display_name": "Python 3 (ipykernel)",
   "language": "python",
   "name": "python3"
  },
  "language_info": {
   "codemirror_mode": {
    "name": "ipython",
    "version": 3
   },
   "file_extension": ".py",
   "mimetype": "text/x-python",
   "name": "python",
   "nbconvert_exporter": "python",
   "pygments_lexer": "ipython3",
   "version": "3.13.3"
  }
 },
 "nbformat": 4,
 "nbformat_minor": 5
}
