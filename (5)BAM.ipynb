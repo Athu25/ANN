{
 "cells": [
  {
   "cell_type": "code",
   "execution_count": 1,
   "id": "287d9d82-6296-4baa-9117-67876650d82d",
   "metadata": {},
   "outputs": [
    {
     "name": "stdout",
     "output_type": "stream",
     "text": [
      "Recalled Output for input [ 1 -1  1] is [ 1 -1]\n"
     ]
    }
   ],
   "source": [
    "import numpy as np\n",
    "\n",
    "class BAM:\n",
    "    def __init__(self):\n",
    "        self.weights = None\n",
    "\n",
    "    def train(self, inputs, outputs):\n",
    "        self.weights = sum(np.outer(x, y) for x, y in zip(inputs, outputs))\n",
    "\n",
    "    def recall(self, x):\n",
    "        y = np.dot(x, self.weights)\n",
    "        return np.where(y >= 0, 1, -1)\n",
    "\n",
    "# Define two input-output pairs (binary or bipolar vectors)\n",
    "input_patterns = [np.array([1, -1, 1]), np.array([-1, 1, -1])]\n",
    "output_patterns = [np.array([1, -1]), np.array([-1, 1])]\n",
    "\n",
    "# Train BAM\n",
    "bam = BAM()\n",
    "bam.train(input_patterns, output_patterns)\n",
    "\n",
    "# Recall from a given input\n",
    "test_input = np.array([1, -1, 1])\n",
    "output = bam.recall(test_input)\n",
    "\n",
    "print(\"Recalled Output for input\", test_input, \"is\", output)\n"
   ]
  },
  {
   "cell_type": "code",
   "execution_count": null,
   "id": "a876dfe7-3d24-42c0-9135-6a28c93d17bd",
   "metadata": {},
   "outputs": [],
   "source": []
  }
 ],
 "metadata": {
  "kernelspec": {
   "display_name": "Python 3 (ipykernel)",
   "language": "python",
   "name": "python3"
  },
  "language_info": {
   "codemirror_mode": {
    "name": "ipython",
    "version": 3
   },
   "file_extension": ".py",
   "mimetype": "text/x-python",
   "name": "python",
   "nbconvert_exporter": "python",
   "pygments_lexer": "ipython3",
   "version": "3.13.3"
  }
 },
 "nbformat": 4,
 "nbformat_minor": 5
}
