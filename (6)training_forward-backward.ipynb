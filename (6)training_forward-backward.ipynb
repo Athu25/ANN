{
 "cells": [
  {
   "cell_type": "code",
   "execution_count": 1,
   "id": "91ace0d1-dd96-424a-bbdb-1f99c55a3222",
   "metadata": {},
   "outputs": [
    {
     "name": "stdout",
     "output_type": "stream",
     "text": [
      "\n",
      "Predictions after training:\n",
      "[[0.]\n",
      " [1.]\n",
      " [1.]\n",
      " [0.]]\n"
     ]
    }
   ],
   "source": [
    "import numpy as np\n",
    "\n",
    "# Sigmoid activation and its derivative\n",
    "def sigmoid(x):\n",
    "    return 1 / (1 + np.exp(-x))\n",
    "\n",
    "def sigmoid_deriv(x):\n",
    "    return x * (1 - x)\n",
    "\n",
    "# Input and Output (XOR problem)\n",
    "X = np.array([[0, 0],\n",
    "              [0, 1],\n",
    "              [1, 0],\n",
    "              [1, 1]])\n",
    "\n",
    "y = np.array([[0],\n",
    "              [1],\n",
    "              [1],\n",
    "              [0]])\n",
    "\n",
    "# Initialize weights and biases\n",
    "np.random.seed(0)\n",
    "w1 = np.random.rand(2, 2)     # weights from input to hidden layer\n",
    "b1 = np.random.rand(1, 2)     # bias for hidden layer\n",
    "w2 = np.random.rand(2, 1)     # weights from hidden to output layer\n",
    "b2 = np.random.rand(1, 1)     # bias for output layer\n",
    "\n",
    "# Training hyperparameters\n",
    "lr = 0.1\n",
    "epochs = 10000\n",
    "\n",
    "# Training loop\n",
    "for epoch in range(epochs):\n",
    "    # Forward Propagation\n",
    "    z1 = np.dot(X, w1) + b1\n",
    "    a1 = sigmoid(z1)\n",
    "    z2 = np.dot(a1, w2) + b2\n",
    "    a2 = sigmoid(z2)\n",
    "\n",
    "    # Backward Propagation\n",
    "    err = y - a2\n",
    "    d2 = err * sigmoid_deriv(a2)\n",
    "    err1 = d2.dot(w2.T)\n",
    "    d1 = err1 * sigmoid_deriv(a1)\n",
    "    \n",
    "    # Weights and biases update\n",
    "    w2 += a1.T.dot(d2) * lr\n",
    "    b2 += np.sum(d2, axis=0, keepdims=True) * lr\n",
    "    w1 += X.T.dot(d1) * lr\n",
    "    b1 += np.sum(d1, axis=0, keepdims=True) * lr\n",
    "\n",
    "# Final prediction\n",
    "print(\"\\nPredictions after training:\")\n",
    "print(np.round(a2))  # Rounding for binary output\n"
   ]
  },
  {
   "cell_type": "code",
   "execution_count": 2,
   "id": "32e54677-a4af-4618-976d-fe4d3cfcca6c",
   "metadata": {},
   "outputs": [],
   "source": [
    "import numpy as np"
   ]
  },
  {
   "cell_type": "code",
   "execution_count": 3,
   "id": "276ac5cf-8643-4e9d-89df-8b8486d8ab9e",
   "metadata": {},
   "outputs": [],
   "source": [
    " def sigmoid(x):\n",
    "    return 1/(1+np.exp(-x))"
   ]
  },
  {
   "cell_type": "code",
   "execution_count": 4,
   "id": "2706caf0-2fc7-444f-bb78-2cf20a175d95",
   "metadata": {},
   "outputs": [],
   "source": [
    "def sigmoid_derivative(x):\n",
    "    return x*(1-x)"
   ]
  },
  {
   "cell_type": "code",
   "execution_count": 5,
   "id": "440f8e73-e3c7-41b0-b338-e75c0b533ec3",
   "metadata": {},
   "outputs": [],
   "source": [
    " X=np.array([[0,0],[0,1],[1,0],[1,1]])\n",
    " y=np.array([[0],[1],[1],[0]])"
   ]
  },
  {
   "cell_type": "code",
   "execution_count": 6,
   "id": "997f1082-4a12-4539-876c-01d391e0c079",
   "metadata": {},
   "outputs": [],
   "source": [
    "np.random.seed(0)"
   ]
  },
  {
   "cell_type": "code",
   "execution_count": 8,
   "id": "7033916e-d665-4291-b685-3117dacb0b72",
   "metadata": {},
   "outputs": [],
   "source": [
    "w1=np.random.rand(2,2)\n",
    "b1=np.random.rand(1,2)\n",
    "w2=np.random.rand(2,1)\n",
    "b2=np.random.rand(1,1)"
   ]
  },
  {
   "cell_type": "code",
   "execution_count": 10,
   "id": "2d91c873-cf3e-48cf-8754-88bb90a742ee",
   "metadata": {},
   "outputs": [],
   "source": [
    "lr=0.1\n",
    "epochs=20000"
   ]
  },
  {
   "cell_type": "code",
   "execution_count": 11,
   "id": "43a3235d-4293-4cc7-84d4-e4e384a502f4",
   "metadata": {},
   "outputs": [],
   "source": [
    " for epoch in range(epochs):\n",
    "    z1=np.dot(X,w1)+b1\n",
    "    a1=sigmoid(z1)\n",
    "    z2=np.dot(a1,w2)+b2\n",
    "    a2=sigmoid(z2)\n",
    "    err=y-a2\n",
    "    d2 = err * sigmoid_derivative(a2)\n",
    "    \n",
    "    err1=d2.dot(w2.T)\n",
    "    d1= err*sigmoid_derivative(a1)\n",
    "    \n",
    "    w2+= a1.T.dot(d2)*lr\n",
    "    b2+=np.sum(d2,axis=0,keepdims=True)* lr \n",
    "    w1+=X.T.dot(d1)*lr\n",
    "    b1+=np.sum(d1,)"
   ]
  },
  {
   "cell_type": "code",
   "execution_count": 13,
   "id": "1e71530d-bd52-435d-912b-3a566f86e652",
   "metadata": {},
   "outputs": [
    {
     "name": "stdout",
     "output_type": "stream",
     "text": [
      "Predictions:\n",
      "[[0.]\n",
      " [1.]\n",
      " [1.]\n",
      " [0.]]\n"
     ]
    }
   ],
   "source": [
    "print(\"Predictions:\")\n",
    "print(np.round(a2))"
   ]
  },
  {
   "cell_type": "code",
   "execution_count": null,
   "id": "c9dbe9d5-8a12-41a6-85a3-b146a43f1858",
   "metadata": {},
   "outputs": [],
   "source": []
  }
 ],
 "metadata": {
  "kernelspec": {
   "display_name": "Python 3 (ipykernel)",
   "language": "python",
   "name": "python3"
  },
  "language_info": {
   "codemirror_mode": {
    "name": "ipython",
    "version": 3
   },
   "file_extension": ".py",
   "mimetype": "text/x-python",
   "name": "python",
   "nbconvert_exporter": "python",
   "pygments_lexer": "ipython3",
   "version": "3.13.3"
  }
 },
 "nbformat": 4,
 "nbformat_minor": 5
}
